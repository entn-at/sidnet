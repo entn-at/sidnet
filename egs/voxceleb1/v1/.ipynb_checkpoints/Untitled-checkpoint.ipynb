{
 "cells": [
  {
   "cell_type": "code",
   "execution_count": 1,
   "metadata": {},
   "outputs": [
    {
     "name": "stderr",
     "output_type": "stream",
     "text": [
      "/Users/swshon/anaconda2/lib/python2.7/site-packages/h5py/__init__.py:34: FutureWarning: Conversion of the second argument of issubdtype from `float` to `np.floating` is deprecated. In future, it will be treated as `np.float64 == np.dtype(float).type`.\n",
      "  from ._conv import register_converters as _register_converters\n"
     ]
    }
   ],
   "source": [
    "import os,sys\n",
    "import numpy as np\n",
    "sys.path.insert(0, './scripts')\n",
    "sys.path.insert(0, './models')\n",
    "import nn_utils as utils\n",
    "from tqdm import tqdm\n",
    "import kaldi_data as kd\n",
    "import csv"
   ]
  },
  {
   "cell_type": "code",
   "execution_count": 28,
   "metadata": {},
   "outputs": [],
   "source": [
    "tst_trials=[]\n",
    "tst_enrolls = []\n",
    "tst_tests = []\n",
    "\n",
    "for line in open('data/voxceleb1_trials/voxceleb1_trials_sv','r').readlines():\n",
    "    row = line.split()\n",
    "    tst_enrolls.append(row[0])\n",
    "    tst_tests.append(row[1])\n",
    "    tst_trials.append(np.where(row[2]=='target',1,0))\n",
    "\n",
    "    \n",
    "tst_trials = np.array(tst_trials)"
   ]
  },
  {
   "cell_type": "code",
   "execution_count": 36,
   "metadata": {
    "collapsed": true
   },
   "outputs": [],
   "source": [
    "wavlist,utt_label,spk_label = kd.read_data_list('data/voxceleb1_test', utt2spk=True, utt2lang=False)\n",
    "tst_dict=dict()\n",
    "tst_list=[]\n",
    "for value,key in enumerate(utt_label):\n",
    "    tst_dict[key]=value"
   ]
  },
  {
   "cell_type": "code",
   "execution_count": 75,
   "metadata": {},
   "outputs": [],
   "source": [
    "tst_enrolls_idx = np.array([],dtype = int)\n",
    "tst_tests_idx = np.array([],dtype = int)\n",
    "for index in range(len(tst_enrolls)):\n",
    "    tst_enrolls_idx = np.append(tst_enrolls_idx, int(tst_dict[tst_enrolls[index]]))\n",
    "    tst_tests_idx = np.append(tst_tests_idx, int(tst_dict[tst_tests[index]]))\n"
   ]
  },
  {
   "cell_type": "code",
   "execution_count": 71,
   "metadata": {},
   "outputs": [
    {
     "data": {
      "text/plain": [
       "array([], dtype=int64)"
      ]
     },
     "execution_count": 71,
     "metadata": {},
     "output_type": "execute_result"
    }
   ],
   "source": []
  },
  {
   "cell_type": "code",
   "execution_count": 79,
   "metadata": {},
   "outputs": [
    {
     "data": {
      "text/plain": [
       "array([   0,    1,    2, ..., 4712, 4713, 4714])"
      ]
     },
     "execution_count": 79,
     "metadata": {},
     "output_type": "execute_result"
    }
   ],
   "source": [
    "u= np.unique(np.append(tst_enrolls_idx,tst_tests_idx))\n",
    "u"
   ]
  },
  {
   "cell_type": "code",
   "execution_count": 84,
   "metadata": {},
   "outputs": [
    {
     "name": "stdout",
     "output_type": "stream",
     "text": [
      " (0, 132)\n"
     ]
    }
   ],
   "source": [
    "for idx in enumerate(tst_enrolls_idx):\n",
    "    print idx\n",
    "    break"
   ]
  },
  {
   "cell_type": "code",
   "execution_count": 85,
   "metadata": {
    "collapsed": true
   },
   "outputs": [],
   "source": [
    "        valid_list_inverse= np.zeros([len(u)])\n"
   ]
  },
  {
   "cell_type": "code",
   "execution_count": 88,
   "metadata": {},
   "outputs": [],
   "source": [
    "valid_list_inverse[2]=1\n"
   ]
  },
  {
   "cell_type": "code",
   "execution_count": 89,
   "metadata": {},
   "outputs": [
    {
     "data": {
      "text/plain": [
       "array([0., 0., 1., ..., 0., 0., 0.])"
      ]
     },
     "execution_count": 89,
     "metadata": {},
     "output_type": "execute_result"
    }
   ],
   "source": [
    "valid_list_inverse"
   ]
  }
 ],
 "metadata": {
  "kernelspec": {
   "display_name": "Python 2",
   "language": "python",
   "name": "python2"
  },
  "language_info": {
   "codemirror_mode": {
    "name": "ipython",
    "version": 2
   },
   "file_extension": ".py",
   "mimetype": "text/x-python",
   "name": "python",
   "nbconvert_exporter": "python",
   "pygments_lexer": "ipython2",
   "version": "2.7.13"
  }
 },
 "nbformat": 4,
 "nbformat_minor": 2
}
